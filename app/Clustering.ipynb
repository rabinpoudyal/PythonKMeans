{
 "cells": [
  {
   "cell_type": "code",
   "execution_count": 1,
   "metadata": {},
   "outputs": [],
   "source": [
    "import numpy as np\n",
    "import pandas as pd"
   ]
  },
  {
   "cell_type": "code",
   "execution_count": 2,
   "metadata": {},
   "outputs": [],
   "source": [
    "def getUsefulData(data):\n",
    "    topicsCount = data['ID'].value_counts()\n",
    "    topicsCount.columns = [\"ID\", \"Count\"]\n",
    "    unwantedTopics = topicsCount[topicsCount <= 5]\n",
    "    usefulData = data[~data.ID.isin(unwantedTopics.ID)]\n",
    "    return(usefulData)"
   ]
  },
  {
   "cell_type": "code",
   "execution_count": 3,
   "metadata": {},
   "outputs": [],
   "source": [
    "def getMutualTopic(usefulData):\n",
    "    mergedTopics = pd.merge(usefulData, usefulData, left_on=\"Email\", right_on=\"Email\")\n",
    "    mergedTopics.columns = [\"Email\", \"ID1\", \"Topic1\", \"Count1\", \"ID2\", \"Topic2\", \"Count2\"]\n",
    "    mergedTopics['Count'] = np.where(usefulTopics['ID1'] == usefulTopics['ID2'],usefulTopics['Count1']*usefulTopics['Count2'], usefulTopics['Count1'])\n",
    "    \n",
    "    mutualTopics = pd.groupby()\n",
    "    counts = pd.DataFrame(mutualTopics['Count'])\n",
    "    mutualTopics['NumberOfEmail'] = counts['NumberOfEmail']\n",
    "    mutualTopics = mutualTopics[mutualTopics['Count'] > 5]\n",
    "    return(mutualTopics)\n"
   ]
  },
  {
   "cell_type": "code",
   "execution_count": 7,
   "metadata": {},
   "outputs": [],
   "source": [
    "from scipy.stats.stats import pearsonr   \n",
    "def clusterDataset(inputVector):\n",
    "    correlation = pearsonr(inputVector)\n",
    "    correlation = correlation.filna(0)\n",
    "    distanceVector = 1 - correlation\n",
    "    analysis = pam(distanceVector, 4)\n",
    "    \n",
    "    clusters = pd.DataFrame(analysis['Cluster'])\n",
    "    clusters.name = [\"ID\", \"Cluster\"]\n",
    "    print(\"Clustering completed for {} data {}\".format(inputVector,sep))\n",
    "    return(clusters)"
   ]
  },
  {
   "cell_type": "code",
   "execution_count": 10,
   "metadata": {},
   "outputs": [],
   "source": [
    "def buildHierarchialCluster(level,mutualTopics, clusters, parentId, UserId, usefulData, latest, log,email):\n",
    "    for quadrantId in [1,2,3,4]:\n",
    "        cluster = clusters[clusters['Cluster'] == quadrantID]\n",
    "        quadrantMutualTopic = mutualTopics[mutualTopics.ID.isin(cluster.ID)]\n",
    "        quadrantMutualTopic = quadrantMutualTopic[quadrantMutualTopic.ID.isin(cluster.ID)]\n",
    "        quadrantUsefulData = usefulData[usefulData.ID.isin(cluster.ID)]\n",
    "        quadrantSortedTopics = quadrantUsefulData.sort_values()\n",
    "        centroid = quadrantSortedTopics[1,]\n",
    "        quadrantSortedTopics = quadrantSortedTopics[~quadrantSortedTopics.ID.isin(centroid.ID)]\n",
    "        "
   ]
  },
  {
   "cell_type": "code",
   "execution_count": null,
   "metadata": {},
   "outputs": [],
   "source": []
  },
  {
   "cell_type": "code",
   "execution_count": null,
   "metadata": {},
   "outputs": [],
   "source": [
    "def saveNode(node, parentTopicId, UserId, latest):\n",
    "    df = pd.DataFrame(np.zeros(0,4))\n",
    "    df.columns = [\"Topic\", \"ParentTopicId\", \"UserId\", \"Latest\"]\n",
    "    "
   ]
  },
  {
   "cell_type": "code",
   "execution_count": null,
   "metadata": {},
   "outputs": [],
   "source": []
  }
 ],
 "metadata": {
  "kernelspec": {
   "display_name": "Python 3",
   "language": "python",
   "name": "python3"
  },
  "language_info": {
   "codemirror_mode": {
    "name": "ipython",
    "version": 3
   },
   "file_extension": ".py",
   "mimetype": "text/x-python",
   "name": "python",
   "nbconvert_exporter": "python",
   "pygments_lexer": "ipython3",
   "version": "3.6.5"
  }
 },
 "nbformat": 4,
 "nbformat_minor": 2
}
